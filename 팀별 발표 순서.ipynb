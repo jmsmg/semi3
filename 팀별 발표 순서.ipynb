{
  "cells": [
    {
      "cell_type": "markdown",
      "source": [
        "## 팀별 발표 순서"
      ],
      "metadata": {}
    },
    {
      "cell_type": "code",
      "source": [
        "import random\n",
        "import time"
      ],
      "outputs": [],
      "execution_count": null,
      "metadata": {}
    },
    {
      "cell_type": "code",
      "source": [
        "team_list = list('12345')\n",
        "team_list"
      ],
      "outputs": [],
      "execution_count": null,
      "metadata": {}
    },
    {
      "cell_type": "code",
      "source": [
        "for i in range(len(team_list)):\n",
        "    time.sleep(0.5)\n",
        "    print('두구두구두구두구')\n",
        "    \n",
        "    time.sleep(5)\n",
        "    random.shuffle(team_list)\n",
        "    print('Team {} : {}번째 발표입니다. 축하합니다.\\n'.format(team_list.pop(), 5-i))"
      ],
      "outputs": [],
      "execution_count": null,
      "metadata": {}
    },
    {
      "cell_type": "code",
      "source": [],
      "outputs": [],
      "execution_count": null,
      "metadata": {}
    }
  ],
  "metadata": {
    "kernel_info": {
      "name": "python3"
    },
    "kernelspec": {
      "display_name": "Python 3",
      "language": "python",
      "name": "python3"
    },
    "language_info": {
      "codemirror_mode": {
        "name": "ipython",
        "version": 3
      },
      "file_extension": ".py",
      "mimetype": "text/x-python",
      "name": "python",
      "nbconvert_exporter": "python",
      "pygments_lexer": "ipython3",
      "version": "3.7.3"
    },
    "nteract": {
      "version": "0.27.0"
    }
  },
  "nbformat": 4,
  "nbformat_minor": 2
}